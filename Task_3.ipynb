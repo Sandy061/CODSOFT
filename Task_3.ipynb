{
  "nbformat": 4,
  "nbformat_minor": 0,
  "metadata": {
    "colab": {
      "provenance": [],
      "authorship_tag": "ABX9TyNMJ1UBxJe3ickVXAPKOFfo",
      "include_colab_link": true
    },
    "kernelspec": {
      "name": "python3",
      "display_name": "Python 3"
    },
    "language_info": {
      "name": "python"
    }
  },
  "cells": [
    {
      "cell_type": "markdown",
      "metadata": {
        "id": "view-in-github",
        "colab_type": "text"
      },
      "source": [
        "<a href=\"https://colab.research.google.com/github/Sandy061/interntask/blob/main/Task_3.ipynb\" target=\"_parent\"><img src=\"https://colab.research.google.com/assets/colab-badge.svg\" alt=\"Open In Colab\"/></a>"
      ]
    },
    {
      "cell_type": "code",
      "execution_count": 1,
      "metadata": {
        "id": "3jIA20drFsCt"
      },
      "outputs": [],
      "source": [
        "from sklearn.datasets import load_iris\n",
        "import numpy as np\n",
        "from sklearn import tree\n",
        "import pandas as pd\n",
        "import matplotlib.pyplot as plt\n",
        "import warnings\n",
        "warnings.simplefilter(\"ignore\")"
      ]
    },
    {
      "cell_type": "code",
      "source": [
        "df=pd.read_csv('IRIS.csv')\n",
        "print(df)"
      ],
      "metadata": {
        "colab": {
          "base_uri": "https://localhost:8080/"
        },
        "id": "hRYXhDbRGGGP",
        "outputId": "921cce2a-83bf-4355-c2f6-5f4e7264d66a"
      },
      "execution_count": 3,
      "outputs": [
        {
          "output_type": "stream",
          "name": "stdout",
          "text": [
            "     sepal_length  sepal_width  petal_length  petal_width         species\n",
            "0             5.1          3.5           1.4          0.2     Iris-setosa\n",
            "1             4.9          3.0           1.4          0.2     Iris-setosa\n",
            "2             4.7          3.2           1.3          0.2     Iris-setosa\n",
            "3             4.6          3.1           1.5          0.2     Iris-setosa\n",
            "4             5.0          3.6           1.4          0.2     Iris-setosa\n",
            "..            ...          ...           ...          ...             ...\n",
            "145           6.7          3.0           5.2          2.3  Iris-virginica\n",
            "146           6.3          2.5           5.0          1.9  Iris-virginica\n",
            "147           6.5          3.0           5.2          2.0  Iris-virginica\n",
            "148           6.2          3.4           5.4          2.3  Iris-virginica\n",
            "149           5.9          3.0           5.1          1.8  Iris-virginica\n",
            "\n",
            "[150 rows x 5 columns]\n"
          ]
        }
      ]
    },
    {
      "cell_type": "code",
      "source": [
        "df.info()"
      ],
      "metadata": {
        "colab": {
          "base_uri": "https://localhost:8080/"
        },
        "id": "M5IkG1SCGwsS",
        "outputId": "68e6757e-005f-4f3b-ed61-4032e3584282"
      },
      "execution_count": 4,
      "outputs": [
        {
          "output_type": "stream",
          "name": "stdout",
          "text": [
            "<class 'pandas.core.frame.DataFrame'>\n",
            "RangeIndex: 150 entries, 0 to 149\n",
            "Data columns (total 5 columns):\n",
            " #   Column        Non-Null Count  Dtype  \n",
            "---  ------        --------------  -----  \n",
            " 0   sepal_length  150 non-null    float64\n",
            " 1   sepal_width   150 non-null    float64\n",
            " 2   petal_length  150 non-null    float64\n",
            " 3   petal_width   150 non-null    float64\n",
            " 4   species       150 non-null    object \n",
            "dtypes: float64(4), object(1)\n",
            "memory usage: 6.0+ KB\n"
          ]
        }
      ]
    },
    {
      "cell_type": "code",
      "source": [
        "#checking for null values\n",
        "df.isnull().sum()"
      ],
      "metadata": {
        "id": "58Y-3-9zG5wl",
        "outputId": "3847b8f3-bdbd-452e-eee6-57cd6c921513",
        "colab": {
          "base_uri": "https://localhost:8080/"
        }
      },
      "execution_count": 5,
      "outputs": [
        {
          "output_type": "execute_result",
          "data": {
            "text/plain": [
              "sepal_length    0\n",
              "sepal_width     0\n",
              "petal_length    0\n",
              "petal_width     0\n",
              "species         0\n",
              "dtype: int64"
            ]
          },
          "metadata": {},
          "execution_count": 5
        }
      ]
    },
    {
      "cell_type": "code",
      "source": [
        "# Prints the name of iris species from the predicted number\n",
        "def decode(num):\n",
        "\tfor i in num:\n",
        "\t\tif i==0:\n",
        "\t\t\tprint(\"setosa\")\n",
        "\t\telif i==1:\n",
        "\t\t\tprint(\"versicolor\")\n",
        "\t\telse:\n",
        "\t\t\tprint(\"virginica\")"
      ],
      "metadata": {
        "id": "tv1_ekKcHFxm"
      },
      "execution_count": 10,
      "outputs": []
    },
    {
      "cell_type": "code",
      "source": [
        "iris = load_iris()\n",
        "test_ids = []\n",
        "\n",
        "for i in range (0, 20):\n",
        "\ttest_ids.append(i)\n",
        "for i in range (50, 70):\n",
        "\ttest_ids.append(i)\n",
        "for i in range (100, 120):\n",
        "\ttest_ids.append(i)\n"
      ],
      "metadata": {
        "id": "auGAUdlzIQDt"
      },
      "execution_count": 11,
      "outputs": []
    },
    {
      "cell_type": "code",
      "source": [
        "# Training data\n",
        "train_data = np.delete(iris.data, test_ids, axis=0)\n",
        "train_target = np.delete(iris.target, test_ids)\n",
        "\n",
        "clf = tree.DecisionTreeClassifier()\n",
        "clf.fit(train_data, train_target)\n",
        "\n",
        "d1 = float(input(\"Enter sepal length : \"))\n",
        "d2 = float(input(\"Enter sepal width : \"))\n",
        "d3 = float(input(\"Enter petal length : \"))\n",
        "d4 = float(input(\"Enter petal width : \"))\n",
        "\n",
        "data = [d1, d2, d3, d4]\n",
        "data=np.array([d1,d2,d3,d4])\n",
        "print(data)\n",
        "print(data.shape)\n",
        "data= data.reshape(1, -1)\n",
        "print (data)      # Produces: [[ 0.58  0.76]]\n",
        "print (data.shape) # Produces (1, 2) meaning 1 row, 2 cols\n",
        "\n",
        "\n",
        "\n",
        "decode(clf.predict(data))"
      ],
      "metadata": {
        "id": "RybVyLdrIodx",
        "outputId": "79499907-0f07-404b-ccfe-a29cfcd72cf5",
        "colab": {
          "base_uri": "https://localhost:8080/"
        }
      },
      "execution_count": 12,
      "outputs": [
        {
          "output_type": "stream",
          "name": "stdout",
          "text": [
            "Enter sepal length : 5.1\n",
            "Enter sepal width : 3.5\n",
            "Enter petal length : 1.4\n",
            "Enter petal width : 0.2\n",
            "[5.1 3.5 1.4 0.2]\n",
            "(4,)\n",
            "[[5.1 3.5 1.4 0.2]]\n",
            "(1, 4)\n",
            "setosa\n"
          ]
        }
      ]
    }
  ]
}